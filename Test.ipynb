{
 "cells": [
  {
   "cell_type": "code",
   "execution_count": 4,
   "id": "23915673-b130-4349-9c2d-eed9f4bbac08",
   "metadata": {},
   "outputs": [],
   "source": [
    "import pandas as pd\n",
    "from sklearn.ensemble import RandomForestClassifier"
   ]
  },
  {
   "cell_type": "markdown",
   "id": "44f90f47-e912-429c-a5f2-55e579055966",
   "metadata": {},
   "source": [
    "# This is a test"
   ]
  },
  {
   "cell_type": "code",
   "execution_count": null,
   "id": "b3bec799-3013-4ad0-bf3a-e62ac8d6fcf2",
   "metadata": {},
   "outputs": [],
   "source": []
  }
 ],
 "metadata": {
  "kernelspec": {
   "display_name": "Python 3 (ipykernel)",
   "language": "python",
   "name": "python3"
  },
  "language_info": {
   "codemirror_mode": {
    "name": "ipython",
    "version": 3
   },
   "file_extension": ".py",
   "mimetype": "text/x-python",
   "name": "python",
   "nbconvert_exporter": "python",
   "pygments_lexer": "ipython3",
   "version": "3.10.17"
  }
 },
 "nbformat": 4,
 "nbformat_minor": 5
}
